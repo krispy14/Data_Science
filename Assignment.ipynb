{
 "cells": [
  {
   "cell_type": "code",
   "execution_count": 97,
   "metadata": {},
   "outputs": [],
   "source": [
    "import numpy as np\n",
    "import pandas as pd"
   ]
  },
  {
   "cell_type": "code",
   "execution_count": 124,
   "metadata": {},
   "outputs": [],
   "source": [
    "energy = pd.read_excel('Energy Indicators.xls',header=9)"
   ]
  },
  {
   "cell_type": "code",
   "execution_count": 125,
   "metadata": {},
   "outputs": [],
   "source": [
    "energy.drop(columns=['Unnamed: 0','Unnamed: 1'], inplace=True)"
   ]
  },
  {
   "cell_type": "code",
   "execution_count": 126,
   "metadata": {},
   "outputs": [
    {
     "data": {
      "text/html": [
       "<div>\n",
       "<style scoped>\n",
       "    .dataframe tbody tr th:only-of-type {\n",
       "        vertical-align: middle;\n",
       "    }\n",
       "\n",
       "    .dataframe tbody tr th {\n",
       "        vertical-align: top;\n",
       "    }\n",
       "\n",
       "    .dataframe thead th {\n",
       "        text-align: right;\n",
       "    }\n",
       "</style>\n",
       "<table border=\"1\" class=\"dataframe\">\n",
       "  <thead>\n",
       "    <tr style=\"text-align: right;\">\n",
       "      <th></th>\n",
       "      <th>Country</th>\n",
       "      <th>Energy Supply</th>\n",
       "      <th>Energy Supply per capita</th>\n",
       "      <th>Renewable Electricity Production</th>\n",
       "    </tr>\n",
       "  </thead>\n",
       "  <tbody>\n",
       "    <tr>\n",
       "      <th>0</th>\n",
       "      <td>NaN</td>\n",
       "      <td>Petajoules</td>\n",
       "      <td>Gigajoules</td>\n",
       "      <td>%</td>\n",
       "    </tr>\n",
       "    <tr>\n",
       "      <th>1</th>\n",
       "      <td>Andorra</td>\n",
       "      <td>9</td>\n",
       "      <td>121</td>\n",
       "      <td>88.6957</td>\n",
       "    </tr>\n",
       "    <tr>\n",
       "      <th>2</th>\n",
       "      <td>NaN</td>\n",
       "      <td>NaN</td>\n",
       "      <td>NaN</td>\n",
       "      <td>NaN</td>\n",
       "    </tr>\n",
       "    <tr>\n",
       "      <th>3</th>\n",
       "      <td>NaN</td>\n",
       "      <td>NaN</td>\n",
       "      <td>NaN</td>\n",
       "      <td>website: http://unstats.un.org/unsd/ENVIRONMEN...</td>\n",
       "    </tr>\n",
       "    <tr>\n",
       "      <th>4</th>\n",
       "      <td>NaN</td>\n",
       "      <td>NaN</td>\n",
       "      <td>NaN</td>\n",
       "      <td>NaN</td>\n",
       "    </tr>\n",
       "  </tbody>\n",
       "</table>\n",
       "</div>"
      ],
      "text/plain": [
       "   Country Energy Supply Energy Supply per capita  \\\n",
       "0      NaN    Petajoules               Gigajoules   \n",
       "1  Andorra             9                      121   \n",
       "2      NaN           NaN                      NaN   \n",
       "3      NaN           NaN                      NaN   \n",
       "4      NaN           NaN                      NaN   \n",
       "\n",
       "                    Renewable Electricity Production  \n",
       "0                                                  %  \n",
       "1                                            88.6957  \n",
       "2                                                NaN  \n",
       "3  website: http://unstats.un.org/unsd/ENVIRONMEN...  \n",
       "4                                                NaN  "
      ]
     },
     "execution_count": 126,
     "metadata": {},
     "output_type": "execute_result"
    }
   ],
   "source": [
    "energy.head()"
   ]
  },
  {
   "cell_type": "code",
   "execution_count": 127,
   "metadata": {},
   "outputs": [],
   "source": [
    "def remove_digit(val):\n",
    "    result = []\n",
    "    for i in val:\n",
    "        if not (i.isdigit()):\n",
    "            result.append(i)\n",
    "    return \"\".join(result)"
   ]
  },
  {
   "cell_type": "code",
   "execution_count": 128,
   "metadata": {},
   "outputs": [],
   "source": [
    "def remove_parenthesis(val):\n",
    "    result = []\n",
    "    for i in val:\n",
    "        if i == '(':\n",
    "            break\n",
    "        if i != '(':\n",
    "            result.append(i)\n",
    "    strg = \"\".join(result)\n",
    "    if strg[-1] == \" \":\n",
    "        return strg[:-1]\n",
    "    return strg"
   ]
  },
  {
   "cell_type": "code",
   "execution_count": 129,
   "metadata": {},
   "outputs": [],
   "source": [
    "energy.dropna(how='any', inplace=True) #dropping all na values\n",
    "energy.columns = ['Country','Energy Supply','Energy Supply per Capita','% Renewable']\n",
    "energy['Country'] = energy['Country'].apply(remove_digit)\n",
    "energy['Country'] = energy['Country'].apply(remove_parenthesis)\n",
    "energy.set_index('Country', inplace=True)"
   ]
  },
  {
   "cell_type": "code",
   "execution_count": 130,
   "metadata": {},
   "outputs": [
    {
     "data": {
      "text/plain": [
       "array([9.00000e+00, 3.21000e+02, 1.02000e+02, 1.95900e+03,         nan,\n",
       "       6.42000e+02, 2.00000e+00, 8.00000e+00, 3.37800e+03, 1.43000e+02,\n",
       "       1.20000e+01, 5.38600e+03, 1.39100e+03, 5.67000e+02, 4.50000e+01,\n",
       "       5.74000e+02, 1.62500e+03, 1.90000e+01, 1.14200e+03, 2.33800e+03,\n",
       "       1.30000e+01, 1.70000e+02, 6.00000e+00, 6.30000e+01, 3.36000e+02,\n",
       "       5.00000e+00, 2.66000e+02, 8.60000e+01, 1.21490e+04, 1.27000e+02,\n",
       "       7.03000e+02, 1.64000e+02, 5.80000e+01, 7.00000e+00, 2.50000e+02,\n",
       "       3.07000e+02, 1.04310e+04, 2.30000e+01, 7.70000e+01, 1.61300e+03,\n",
       "       1.27191e+05, 5.85000e+02, 4.70000e+01, 1.51300e+03, 1.00000e+00,\n",
       "       2.22000e+02, 5.47000e+02, 7.80000e+01, 8.20000e+01, 1.75100e+03,\n",
       "       6.12000e+02, 8.88000e+02, 7.25000e+02, 1.10000e+01, 3.39000e+02,\n",
       "       6.80000e+02, 3.42200e+03, 1.76000e+02, 7.30000e+01, 3.40000e+01,\n",
       "       2.58000e+02, 1.39400e+03, 3.10000e+01, 1.37400e+03, 1.05970e+04,\n",
       "       9.90000e+01, 1.40000e+01, 1.63000e+02, 1.32610e+04, 3.16000e+02,\n",
       "       9.93000e+02, 3.30000e+01, 4.52000e+02, 0.00000e+00, 1.45000e+02,\n",
       "       2.90000e+01, 1.72000e+02, 2.17000e+02, 9.47000e+02, 3.12000e+02,\n",
       "       3.31950e+04, 8.75400e+03, 9.17200e+03, 2.07700e+03, 5.48000e+02,\n",
       "       9.97000e+02, 6.53000e+03, 1.08000e+02, 1.89840e+04, 3.00000e+00,\n",
       "       3.25000e+02, 3.54800e+03, 8.73000e+02, 1.47500e+03, 1.67000e+02,\n",
       "       8.50000e+01, 1.83000e+02, 2.89000e+02, 4.80000e+01, 8.30000e+01,\n",
       "       7.07000e+02, 2.82000e+02, 1.68000e+02, 1.66000e+02, 1.01000e+02,\n",
       "       3.41700e+03, 1.50000e+01, 6.60000e+01, 5.10000e+01, 7.94400e+03,\n",
       "       4.75000e+02, 4.20000e+01, 7.96000e+02, 4.69000e+02, 6.82000e+02,\n",
       "       4.58000e+02, 3.19900e+03, 8.76000e+02, 1.49000e+02, 8.70000e+01,\n",
       "       5.58900e+03, 1.38800e+03, 1.01500e+03, 2.86800e+03, 1.58000e+02,\n",
       "       1.44000e+02, 2.28000e+02, 8.58000e+02, 1.78100e+03, 4.12100e+03,\n",
       "       8.99000e+02, 5.60000e+01, 1.39600e+03, 1.10070e+04, 9.30000e+01,\n",
       "       5.90000e+01, 1.33900e+03, 3.07090e+04, 9.50000e+01, 4.00000e+00,\n",
       "       7.98500e+03, 1.54000e+02, 6.18000e+02, 6.70000e+01, 1.12000e+03,\n",
       "       7.11000e+02, 2.87000e+02, 1.26000e+02, 6.34100e+03, 2.80000e+01,\n",
       "       4.92300e+03, 3.88000e+02, 6.10000e+01, 6.08000e+02, 4.90000e+01,\n",
       "       2.04400e+03, 1.11300e+03, 5.42000e+02, 1.06000e+02, 5.33600e+03,\n",
       "       1.17000e+02, 1.34000e+02, 8.24000e+02, 4.30000e+02, 4.89700e+03,\n",
       "       1.10200e+03, 4.84400e+03, 2.71000e+03, 7.92000e+03, 9.94000e+02,\n",
       "       9.08380e+04, 1.96000e+02, 1.79800e+03, 2.87100e+03, 2.55400e+03,\n",
       "       3.44000e+02, 4.00000e+02, 4.80000e+02])"
      ]
     },
     "execution_count": 130,
     "metadata": {},
     "output_type": "execute_result"
    }
   ],
   "source": [
    "energy['Energy Supply'].replace({'...':np.nan},inplace=True)\n",
    "energy['Energy Supply'].unique()"
   ]
  },
  {
   "cell_type": "code",
   "execution_count": 131,
   "metadata": {},
   "outputs": [],
   "source": [
    "energy['Energy Supply'] = energy['Energy Supply'] * 1000000"
   ]
  },
  {
   "cell_type": "code",
   "execution_count": 132,
   "metadata": {},
   "outputs": [
    {
     "data": {
      "text/html": [
       "<div>\n",
       "<style scoped>\n",
       "    .dataframe tbody tr th:only-of-type {\n",
       "        vertical-align: middle;\n",
       "    }\n",
       "\n",
       "    .dataframe tbody tr th {\n",
       "        vertical-align: top;\n",
       "    }\n",
       "\n",
       "    .dataframe thead th {\n",
       "        text-align: right;\n",
       "    }\n",
       "</style>\n",
       "<table border=\"1\" class=\"dataframe\">\n",
       "  <thead>\n",
       "    <tr style=\"text-align: right;\">\n",
       "      <th></th>\n",
       "      <th>Energy Supply</th>\n",
       "      <th>Energy Supply per Capita</th>\n",
       "      <th>% Renewable</th>\n",
       "    </tr>\n",
       "    <tr>\n",
       "      <th>Country</th>\n",
       "      <th></th>\n",
       "      <th></th>\n",
       "      <th></th>\n",
       "    </tr>\n",
       "  </thead>\n",
       "  <tbody>\n",
       "    <tr>\n",
       "      <th>Andorra</th>\n",
       "      <td>9.000000e+06</td>\n",
       "      <td>121</td>\n",
       "      <td>88.6957</td>\n",
       "    </tr>\n",
       "    <tr>\n",
       "      <th>Afghanistan</th>\n",
       "      <td>3.210000e+08</td>\n",
       "      <td>10</td>\n",
       "      <td>78.6693</td>\n",
       "    </tr>\n",
       "    <tr>\n",
       "      <th>Albania</th>\n",
       "      <td>1.020000e+08</td>\n",
       "      <td>35</td>\n",
       "      <td>100</td>\n",
       "    </tr>\n",
       "    <tr>\n",
       "      <th>Algeria</th>\n",
       "      <td>1.959000e+09</td>\n",
       "      <td>51</td>\n",
       "      <td>0.55101</td>\n",
       "    </tr>\n",
       "    <tr>\n",
       "      <th>American Samoa</th>\n",
       "      <td>NaN</td>\n",
       "      <td>...</td>\n",
       "      <td>0.641026</td>\n",
       "    </tr>\n",
       "    <tr>\n",
       "      <th>...</th>\n",
       "      <td>...</td>\n",
       "      <td>...</td>\n",
       "      <td>...</td>\n",
       "    </tr>\n",
       "    <tr>\n",
       "      <th>Viet Nam</th>\n",
       "      <td>2.554000e+09</td>\n",
       "      <td>28</td>\n",
       "      <td>45.3215</td>\n",
       "    </tr>\n",
       "    <tr>\n",
       "      <th>Wallis and Futuna Islands</th>\n",
       "      <td>0.000000e+00</td>\n",
       "      <td>26</td>\n",
       "      <td>0</td>\n",
       "    </tr>\n",
       "    <tr>\n",
       "      <th>Yemen</th>\n",
       "      <td>3.440000e+08</td>\n",
       "      <td>13</td>\n",
       "      <td>0</td>\n",
       "    </tr>\n",
       "    <tr>\n",
       "      <th>Zambia</th>\n",
       "      <td>4.000000e+08</td>\n",
       "      <td>26</td>\n",
       "      <td>99.7147</td>\n",
       "    </tr>\n",
       "    <tr>\n",
       "      <th>Zimbabwe</th>\n",
       "      <td>4.800000e+08</td>\n",
       "      <td>32</td>\n",
       "      <td>52.5361</td>\n",
       "    </tr>\n",
       "  </tbody>\n",
       "</table>\n",
       "<p>228 rows × 3 columns</p>\n",
       "</div>"
      ],
      "text/plain": [
       "                           Energy Supply Energy Supply per Capita % Renewable\n",
       "Country                                                                      \n",
       "Andorra                     9.000000e+06                      121     88.6957\n",
       "Afghanistan                 3.210000e+08                       10     78.6693\n",
       "Albania                     1.020000e+08                       35         100\n",
       "Algeria                     1.959000e+09                       51     0.55101\n",
       "American Samoa                       NaN                      ...    0.641026\n",
       "...                                  ...                      ...         ...\n",
       "Viet Nam                    2.554000e+09                       28     45.3215\n",
       "Wallis and Futuna Islands   0.000000e+00                       26           0\n",
       "Yemen                       3.440000e+08                       13           0\n",
       "Zambia                      4.000000e+08                       26     99.7147\n",
       "Zimbabwe                    4.800000e+08                       32     52.5361\n",
       "\n",
       "[228 rows x 3 columns]"
      ]
     },
     "execution_count": 132,
     "metadata": {},
     "output_type": "execute_result"
    }
   ],
   "source": [
    "energy"
   ]
  },
  {
   "cell_type": "code",
   "execution_count": 136,
   "metadata": {},
   "outputs": [],
   "source": [
    "energy.rename(index={'Republic of Korea':'South Korea',\n",
    "                     'United States of America':'United States',\n",
    "                     'United Kingdom of Great Britain and Northern Ireland':'United Kingdom',\n",
    "                     'China, Hong Kong Special Administrative Region':'Hong Kong'},inplace=True)"
   ]
  },
  {
   "cell_type": "code",
   "execution_count": 137,
   "metadata": {},
   "outputs": [
    {
     "data": {
      "text/plain": [
       "Index(['Andorra', 'Afghanistan', 'Albania', 'Algeria', 'American Samoa',\n",
       "       'Andorra', 'Angola', 'Anguilla', 'Antigua and Barbuda', 'Argentina',\n",
       "       'Armenia', 'Aruba', 'Australia', 'Austria', 'Azerbaijan', 'Bahamas',\n",
       "       'Bahrain', 'Bangladesh', 'Barbados', 'Belarus', 'Belgium', 'Belize',\n",
       "       'Benin', 'Bermuda', 'Bhutan', 'Bolivia',\n",
       "       'Bonaire, Sint Eustatius and Saba', 'Bosnia and Herzegovina',\n",
       "       'Botswana', 'Brazil', 'British Virgin Islands', 'Brunei Darussalam',\n",
       "       'Bulgaria', 'Burkina Faso', 'Burundi', 'Cabo Verde', 'Cambodia',\n",
       "       'Cameroon', 'Canada', 'Cayman Islands', 'Central African Republic',\n",
       "       'Chad', 'Chile', 'China', 'Hong Kong',\n",
       "       'China, Macao Special Administrative Region', 'Colombia', 'Comoros',\n",
       "       'Congo', 'Cook Islands'],\n",
       "      dtype='object', name='Country')"
      ]
     },
     "execution_count": 137,
     "metadata": {},
     "output_type": "execute_result"
    }
   ],
   "source": [
    "energy.index[0:50]"
   ]
  },
  {
   "cell_type": "code",
   "execution_count": null,
   "metadata": {},
   "outputs": [],
   "source": []
  }
 ],
 "metadata": {
  "kernelspec": {
   "display_name": "Python 3",
   "language": "python",
   "name": "python3"
  },
  "language_info": {
   "codemirror_mode": {
    "name": "ipython",
    "version": 3
   },
   "file_extension": ".py",
   "mimetype": "text/x-python",
   "name": "python",
   "nbconvert_exporter": "python",
   "pygments_lexer": "ipython3",
   "version": "3.7.7"
  }
 },
 "nbformat": 4,
 "nbformat_minor": 4
}
